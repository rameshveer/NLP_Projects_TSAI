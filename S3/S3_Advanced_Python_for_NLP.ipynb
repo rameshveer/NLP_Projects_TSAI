{
 "cells": [
  {
   "cell_type": "markdown",
   "metadata": {},
   "source": [
    "# S3_Advanced_Python_for_NLP"
   ]
  },
  {
   "cell_type": "code",
   "execution_count": 23,
   "metadata": {},
   "outputs": [],
   "source": [
    "# importing required libraries\n",
    "\n",
    "import numpy as np\n",
    "from nltk.tokenize import word_tokenize\n",
    "import random\n",
    "import string"
   ]
  },
  {
   "cell_type": "markdown",
   "metadata": {},
   "source": [
    "### 1. Write a function using only list filter lambda that can tell whether a number is a Fibonacci number or not. You can use a pre-calculated list/dict to store fab numbers till 10000"
   ]
  },
  {
   "cell_type": "code",
   "execution_count": 2,
   "metadata": {},
   "outputs": [],
   "source": [
    "# Function for generating list of fibonacci number till 10000\n",
    "# Taking 1st two fibonacci numbers as 0 and 1\n",
    "\n",
    "def fibonacci(n):\n",
    "\tfl = [0,1]\n",
    "\ta = 0\n",
    "\tb = 1\n",
    "\tif n <= 0:\n",
    "\t\tprint(\"Incorrect input\")\n",
    "\telif n == 1:\n",
    "\t\treturn b\n",
    "\telse:\n",
    "\t\tfor i in range(2,n):\n",
    "\t\t\tc = a + b\n",
    "\t\t\ta = b\n",
    "\t\t\tb = c\n",
    "\t\t\tfl.append(c)\n",
    "\t\treturn fl\n",
    "\n",
    "# Driver Program\n",
    "\n",
    "fib_list = fibonacci(10000)"
   ]
  },
  {
   "cell_type": "code",
   "execution_count": 3,
   "metadata": {},
   "outputs": [],
   "source": [
    "#  function using only list filter lambda that can tell whether a number is a Fibonacci number\n",
    "\n",
    "def fib_no(num):\n",
    "    \n",
    "    list_num = list(filter(lambda x: x == num, fib_list))\n",
    "    \n",
    "    if len(list_num) == 1:\n",
    "        op = \"This is a Fibonacci number\"    \n",
    "    else:\n",
    "        op = \"This is NOT a Fibonacci number\"\n",
    "    \n",
    "    return op"
   ]
  },
  {
   "cell_type": "code",
   "execution_count": 4,
   "metadata": {},
   "outputs": [
    {
     "data": {
      "text/plain": [
       "'This is a Fibonacci number'"
      ]
     },
     "execution_count": 4,
     "metadata": {},
     "output_type": "execute_result"
    }
   ],
   "source": [
    "fib_no(21)"
   ]
  },
  {
   "cell_type": "code",
   "execution_count": 5,
   "metadata": {},
   "outputs": [
    {
     "data": {
      "text/plain": [
       "'This is NOT a Fibonacci number'"
      ]
     },
     "execution_count": 5,
     "metadata": {},
     "output_type": "execute_result"
    }
   ],
   "source": [
    "fib_no(20)"
   ]
  },
  {
   "cell_type": "markdown",
   "metadata": {},
   "source": [
    "### 2. Using list comprehension (and zip/lambda/etc if required) write five different expressions that:\n",
    "* add 2 iterables a and b such that a is even and b is odd\n",
    "* strips every vowel from a string provided (tsai>>t s)\n",
    "* acts like a ReLU function for a 1D array\n",
    "* acts like a sigmoid function for a 1D array\n",
    "* takes a small character string and shifts all characters by 5 (handle boundary conditions) tsai>>yxfn\n"
   ]
  },
  {
   "cell_type": "code",
   "execution_count": 6,
   "metadata": {},
   "outputs": [
    {
     "name": "stdout",
     "output_type": "stream",
     "text": [
      "a:  [0, 2, 4, 6, 8, 10, 12, 14, 16, 18]\n",
      "b:  [1, 3, 5, 7, 9, 11, 13, 15, 17, 19]\n"
     ]
    },
    {
     "data": {
      "text/plain": [
       "[1, 5, 9, 13, 17, 21, 25, 29, 33, 37]"
      ]
     },
     "execution_count": 6,
     "metadata": {},
     "output_type": "execute_result"
    }
   ],
   "source": [
    "# add 2 iterables a and b such that a is even and b is odd\n",
    "\n",
    "# even iterable\n",
    "a = [] \n",
    "for i in range(0,20,2):\n",
    "    a.append(i)\n",
    "print(\"a: \", a)\n",
    "\n",
    "# odd iterable\n",
    "b = [] \n",
    "for i in range(1,20,2):\n",
    "    b.append(i)\n",
    "print(\"b: \", b)\n",
    "\n",
    "#Adding a & b\n",
    "\n",
    "list(map(lambda x,y: x + y, a, b))\n"
   ]
  },
  {
   "cell_type": "code",
   "execution_count": 7,
   "metadata": {},
   "outputs": [
    {
     "data": {
      "text/plain": [
       "['r', 'm', 's', 'h']"
      ]
     },
     "execution_count": 7,
     "metadata": {},
     "output_type": "execute_result"
    }
   ],
   "source": [
    "# strips every vowel from a string provided (tsai>>t s)\n",
    "\n",
    "def vowel_func(vowel):\n",
    "\n",
    "    result = list(filter(lambda c: c not in['a', 'e', 'i', 'o', 'u'], vowel))\n",
    "\n",
    "    return result\n",
    "\n",
    "    \n",
    "vowel_func(\"ramesh\")"
   ]
  },
  {
   "cell_type": "code",
   "execution_count": 8,
   "metadata": {
    "scrolled": true
   },
   "outputs": [
    {
     "data": {
      "text/plain": [
       "[0, 0, 1, 2, 0]"
      ]
     },
     "execution_count": 8,
     "metadata": {},
     "output_type": "execute_result"
    }
   ],
   "source": [
    "# acts like a ReLU function for a 1D array\n",
    "\n",
    "l = [-1, 0, 1, 2, -2]\n",
    "\n",
    "def relu(x):\n",
    "    \n",
    "    if x < 0:\n",
    "        x = 0        \n",
    "    return x\n",
    "\n",
    "x = list(map(lambda x :relu(x), l))\n",
    "x"
   ]
  },
  {
   "cell_type": "code",
   "execution_count": 9,
   "metadata": {
    "scrolled": true
   },
   "outputs": [
    {
     "data": {
      "text/plain": [
       "[0.2689414213699951,\n",
       " 0.5,\n",
       " 0.7310585786300049,\n",
       " 0.8807970779778823,\n",
       " 0.11920292202211755]"
      ]
     },
     "execution_count": 9,
     "metadata": {},
     "output_type": "execute_result"
    }
   ],
   "source": [
    "# acts like a sigmoid function for a 1D array\n",
    "\n",
    "def sigmoid(x):\n",
    "   return 1/(1+np.exp(-x))\n",
    "\n",
    "x = list(map(lambda x :sigmoid(x), l))\n",
    "x"
   ]
  },
  {
   "cell_type": "code",
   "execution_count": 10,
   "metadata": {},
   "outputs": [
    {
     "data": {
      "text/plain": [
       "['f', 'g', 'h', 'i']"
      ]
     },
     "execution_count": 10,
     "metadata": {},
     "output_type": "execute_result"
    }
   ],
   "source": [
    "# takes a small character string and shifts all characters by 5 (handle boundary conditions) tsai>>yxfn\n",
    "\n",
    "word = 'abcd'\n",
    "\n",
    "x = [chr(ord(c) + 5) for c in word]\n",
    "x"
   ]
  },
  {
   "cell_type": "markdown",
   "metadata": {},
   "source": [
    "### 3. A list comprehension expression that takes a ~200 word paragraph (write your own paragraph to check), and checks whether it has any of the swear words mentioned in https://github.com/RobertJGabriel/Google-profanity-words/blob/master/list.txt "
   ]
  },
  {
   "cell_type": "code",
   "execution_count": 11,
   "metadata": {
    "scrolled": true
   },
   "outputs": [
    {
     "name": "stdout",
     "output_type": "stream",
     "text": [
      "fatal: destination path 'Google-profanity-words' already exists and is not an empty directory.\r\n"
     ]
    }
   ],
   "source": [
    "!git clone https://github.com/RobertJGabriel/Google-profanity-words.git"
   ]
  },
  {
   "cell_type": "code",
   "execution_count": 12,
   "metadata": {},
   "outputs": [
    {
     "name": "stdout",
     "output_type": "stream",
     "text": [
      "/Users/rameshveer/ML_Projects/END_Projects/Google-profanity-words\n"
     ]
    }
   ],
   "source": [
    "cd Google-profanity-words"
   ]
  },
  {
   "cell_type": "code",
   "execution_count": 13,
   "metadata": {},
   "outputs": [
    {
     "data": {
      "text/plain": [
       "['4r5e',\n",
       " '5h1t',\n",
       " '5hit',\n",
       " 'a55',\n",
       " 'anal',\n",
       " 'anus',\n",
       " 'ar5e',\n",
       " 'arrse',\n",
       " 'arse',\n",
       " 'ass',\n",
       " 'ass-fucker',\n",
       " 'asses',\n",
       " 'assfucker',\n",
       " 'assfukka',\n",
       " 'asshole',\n",
       " 'assholes',\n",
       " 'asswhole',\n",
       " 'a_s_s',\n",
       " 'b!tch',\n",
       " 'b00bs',\n",
       " 'b17ch',\n",
       " 'b1tch',\n",
       " 'ballbag',\n",
       " 'balls',\n",
       " 'ballsack',\n",
       " 'bastard',\n",
       " 'beastial',\n",
       " 'beastiality',\n",
       " 'bellend',\n",
       " 'bestial',\n",
       " 'bestiality',\n",
       " 'bi+ch',\n",
       " 'biatch',\n",
       " 'bitch',\n",
       " 'bitcher',\n",
       " 'bitchers',\n",
       " 'bitches',\n",
       " 'bitchin',\n",
       " 'bitching',\n",
       " 'bloody',\n",
       " 'blow job',\n",
       " 'blowjob',\n",
       " 'blowjobs',\n",
       " 'boiolas',\n",
       " 'bollock',\n",
       " 'bollok',\n",
       " 'boner',\n",
       " 'boob',\n",
       " 'boobs',\n",
       " 'booobs',\n",
       " 'boooobs',\n",
       " 'booooobs',\n",
       " 'booooooobs',\n",
       " 'breasts',\n",
       " 'buceta',\n",
       " 'bugger',\n",
       " 'bum',\n",
       " 'bunny fucker',\n",
       " 'butt',\n",
       " 'butthole',\n",
       " 'buttmunch',\n",
       " 'buttplug',\n",
       " 'c0ck',\n",
       " 'c0cksucker',\n",
       " 'carpet muncher',\n",
       " 'cawk',\n",
       " 'chink',\n",
       " 'cipa',\n",
       " 'cl1t',\n",
       " 'clit',\n",
       " 'clitoris',\n",
       " 'clits',\n",
       " 'cnut',\n",
       " 'cock',\n",
       " 'cock-sucker',\n",
       " 'cockface',\n",
       " 'cockhead',\n",
       " 'cockmunch',\n",
       " 'cockmuncher',\n",
       " 'cocks',\n",
       " 'cocksuck ',\n",
       " 'cocksucked ',\n",
       " 'cocksucker',\n",
       " 'cocksucking',\n",
       " 'cocksucks ',\n",
       " 'cocksuka',\n",
       " 'cocksukka',\n",
       " 'cok',\n",
       " 'cokmuncher',\n",
       " 'coksucka',\n",
       " 'coon',\n",
       " 'cox',\n",
       " 'crap',\n",
       " 'cum',\n",
       " 'cummer',\n",
       " 'cumming',\n",
       " 'cums',\n",
       " 'cumshot',\n",
       " 'cunilingus',\n",
       " 'cunillingus',\n",
       " 'cunnilingus',\n",
       " 'cunt',\n",
       " 'cuntlick ',\n",
       " 'cuntlicker ',\n",
       " 'cuntlicking ',\n",
       " 'cunts',\n",
       " 'cyalis',\n",
       " 'cyberfuc',\n",
       " 'cyberfuck ',\n",
       " 'cyberfucked ',\n",
       " 'cyberfucker',\n",
       " 'cyberfuckers',\n",
       " 'cyberfucking ',\n",
       " 'd1ck',\n",
       " 'damn',\n",
       " 'dick',\n",
       " 'dickhead',\n",
       " 'dildo',\n",
       " 'dildos',\n",
       " 'dink',\n",
       " 'dinks',\n",
       " 'dirsa',\n",
       " 'dlck',\n",
       " 'dog-fucker',\n",
       " 'doggin',\n",
       " 'dogging',\n",
       " 'donkeyribber',\n",
       " 'doosh',\n",
       " 'duche',\n",
       " 'dyke',\n",
       " 'ejaculate',\n",
       " 'ejaculated',\n",
       " 'ejaculates ',\n",
       " 'ejaculating ',\n",
       " 'ejaculatings',\n",
       " 'ejaculation',\n",
       " 'ejakulate',\n",
       " 'f u c k',\n",
       " 'f u c k e r',\n",
       " 'f4nny',\n",
       " 'fag',\n",
       " 'fagging',\n",
       " 'faggitt',\n",
       " 'faggot',\n",
       " 'faggs',\n",
       " 'fagot',\n",
       " 'fagots',\n",
       " 'fags',\n",
       " 'fanny',\n",
       " 'fannyflaps',\n",
       " 'fannyfucker',\n",
       " 'fanyy',\n",
       " 'fatass',\n",
       " 'fcuk',\n",
       " 'fcuker',\n",
       " 'fcuking',\n",
       " 'feck',\n",
       " 'fecker',\n",
       " 'felching',\n",
       " 'fellate',\n",
       " 'fellatio',\n",
       " 'fingerfuck ',\n",
       " 'fingerfucked ',\n",
       " 'fingerfucker ',\n",
       " 'fingerfuckers',\n",
       " 'fingerfucking ',\n",
       " 'fingerfucks ',\n",
       " 'fistfuck',\n",
       " 'fistfucked ',\n",
       " 'fistfucker ',\n",
       " 'fistfuckers ',\n",
       " 'fistfucking ',\n",
       " 'fistfuckings ',\n",
       " 'fistfucks ',\n",
       " 'flange',\n",
       " 'fook',\n",
       " 'fooker',\n",
       " 'fuck',\n",
       " 'fucka',\n",
       " 'fucked',\n",
       " 'fucker',\n",
       " 'fuckers',\n",
       " 'fuckhead',\n",
       " 'fuckheads',\n",
       " 'fuckin',\n",
       " 'fucking',\n",
       " 'fuckings',\n",
       " 'fuckingshitmotherfucker',\n",
       " 'fuckme ',\n",
       " 'fucks',\n",
       " 'fuckwhit',\n",
       " 'fuckwit',\n",
       " 'fudge packer',\n",
       " 'fudgepacker',\n",
       " 'fuk',\n",
       " 'fuker',\n",
       " 'fukker',\n",
       " 'fukkin',\n",
       " 'fuks',\n",
       " 'fukwhit',\n",
       " 'fukwit',\n",
       " 'fux',\n",
       " 'fux0r',\n",
       " 'f_u_c_k',\n",
       " 'gangbang',\n",
       " 'gangbanged ',\n",
       " 'gangbangs ',\n",
       " 'gaylord',\n",
       " 'gaysex',\n",
       " 'goatse',\n",
       " 'God',\n",
       " 'god-dam',\n",
       " 'god-damned',\n",
       " 'goddamn',\n",
       " 'goddamned',\n",
       " 'hardcoresex ',\n",
       " 'hell',\n",
       " 'heshe',\n",
       " 'hoar',\n",
       " 'hoare',\n",
       " 'hoer',\n",
       " 'homo',\n",
       " 'hore',\n",
       " 'horniest',\n",
       " 'horny',\n",
       " 'hotsex',\n",
       " 'jack-off ',\n",
       " 'jackoff',\n",
       " 'jap',\n",
       " 'jerk-off ',\n",
       " 'jism',\n",
       " 'jiz ',\n",
       " 'jizm ',\n",
       " 'jizz',\n",
       " 'kawk',\n",
       " 'knob',\n",
       " 'knobead',\n",
       " 'knobed',\n",
       " 'knobend',\n",
       " 'knobhead',\n",
       " 'knobjocky',\n",
       " 'knobjokey',\n",
       " 'kock',\n",
       " 'kondum',\n",
       " 'kondums',\n",
       " 'kum',\n",
       " 'kummer',\n",
       " 'kumming',\n",
       " 'kums',\n",
       " 'kunilingus',\n",
       " 'l3i+ch',\n",
       " 'l3itch',\n",
       " 'labia',\n",
       " 'lmfao',\n",
       " 'lust',\n",
       " 'lusting',\n",
       " 'm0f0',\n",
       " 'm0fo',\n",
       " 'm45terbate',\n",
       " 'ma5terb8',\n",
       " 'ma5terbate',\n",
       " 'masochist',\n",
       " 'master-bate',\n",
       " 'masterb8',\n",
       " 'masterbat*',\n",
       " 'masterbat3',\n",
       " 'masterbate',\n",
       " 'masterbation',\n",
       " 'masterbations',\n",
       " 'masturbate',\n",
       " 'mo-fo',\n",
       " 'mof0',\n",
       " 'mofo',\n",
       " 'mothafuck',\n",
       " 'mothafucka',\n",
       " 'mothafuckas',\n",
       " 'mothafuckaz',\n",
       " 'mothafucked ',\n",
       " 'mothafucker',\n",
       " 'mothafuckers',\n",
       " 'mothafuckin',\n",
       " 'mothafucking ',\n",
       " 'mothafuckings',\n",
       " 'mothafucks',\n",
       " 'mother fucker',\n",
       " 'motherfuck',\n",
       " 'motherfucked',\n",
       " 'motherfucker',\n",
       " 'motherfuckers',\n",
       " 'motherfuckin',\n",
       " 'motherfucking',\n",
       " 'motherfuckings',\n",
       " 'motherfuckka',\n",
       " 'motherfucks',\n",
       " 'muff',\n",
       " 'mutha',\n",
       " 'muthafecker',\n",
       " 'muthafuckker',\n",
       " 'muther',\n",
       " 'mutherfucker',\n",
       " 'n1gga',\n",
       " 'n1gger',\n",
       " 'nazi',\n",
       " 'nigg3r',\n",
       " 'nigg4h',\n",
       " 'nigga',\n",
       " 'niggah',\n",
       " 'niggas',\n",
       " 'niggaz',\n",
       " 'nigger',\n",
       " 'niggers ',\n",
       " 'nob',\n",
       " 'nob jokey',\n",
       " 'nobhead',\n",
       " 'nobjocky',\n",
       " 'nobjokey',\n",
       " 'numbnuts',\n",
       " 'nutsack',\n",
       " 'orgasim ',\n",
       " 'orgasims ',\n",
       " 'orgasm',\n",
       " 'orgasms ',\n",
       " 'p0rn',\n",
       " 'pawn',\n",
       " 'pecker',\n",
       " 'penis',\n",
       " 'penisfucker',\n",
       " 'phonesex',\n",
       " 'phuck',\n",
       " 'phuk',\n",
       " 'phuked',\n",
       " 'phuking',\n",
       " 'phukked',\n",
       " 'phukking',\n",
       " 'phuks',\n",
       " 'phuq',\n",
       " 'pigfucker',\n",
       " 'pimpis',\n",
       " 'piss',\n",
       " 'pissed',\n",
       " 'pisser',\n",
       " 'pissers',\n",
       " 'pisses ',\n",
       " 'pissflaps',\n",
       " 'pissin ',\n",
       " 'pissing',\n",
       " 'pissoff ',\n",
       " 'poop',\n",
       " 'porn',\n",
       " 'porno',\n",
       " 'pornography',\n",
       " 'pornos',\n",
       " 'prick',\n",
       " 'pricks ',\n",
       " 'pron',\n",
       " 'pube',\n",
       " 'pusse',\n",
       " 'pussi',\n",
       " 'pussies',\n",
       " 'pussy',\n",
       " 'pussys ',\n",
       " 'rectum',\n",
       " 'retard',\n",
       " 'rimjaw',\n",
       " 'rimming',\n",
       " 's hit',\n",
       " 's.o.b.',\n",
       " 'sadist',\n",
       " 'schlong',\n",
       " 'screwing',\n",
       " 'scroat',\n",
       " 'scrote',\n",
       " 'scrotum',\n",
       " 'semen',\n",
       " 'sex',\n",
       " 'sh!+',\n",
       " 'sh!t',\n",
       " 'sh1t',\n",
       " 'shag',\n",
       " 'shagger',\n",
       " 'shaggin',\n",
       " 'shagging',\n",
       " 'shemale',\n",
       " 'shi+',\n",
       " 'shit',\n",
       " 'shitdick',\n",
       " 'shite',\n",
       " 'shited',\n",
       " 'shitey',\n",
       " 'shitfuck',\n",
       " 'shitfull',\n",
       " 'shithead',\n",
       " 'shiting',\n",
       " 'shitings',\n",
       " 'shits',\n",
       " 'shitted',\n",
       " 'shitter',\n",
       " 'shitters ',\n",
       " 'shitting',\n",
       " 'shittings',\n",
       " 'shitty ',\n",
       " 'skank',\n",
       " 'slut',\n",
       " 'sluts',\n",
       " 'smegma',\n",
       " 'smut',\n",
       " 'snatch',\n",
       " 'son-of-a-bitch',\n",
       " 'spac',\n",
       " 'spunk',\n",
       " 's_h_i_t',\n",
       " 't1tt1e5',\n",
       " 't1tties',\n",
       " 'teets',\n",
       " 'teez',\n",
       " 'testical',\n",
       " 'testicle',\n",
       " 'tit',\n",
       " 'titfuck',\n",
       " 'tits',\n",
       " 'titt',\n",
       " 'tittie5',\n",
       " 'tittiefucker',\n",
       " 'titties',\n",
       " 'tittyfuck',\n",
       " 'tittywank',\n",
       " 'titwank',\n",
       " 'tosser',\n",
       " 'turd',\n",
       " 'tw4t',\n",
       " 'twat',\n",
       " 'twathead',\n",
       " 'twatty',\n",
       " 'twunt',\n",
       " 'twunter',\n",
       " 'v14gra',\n",
       " 'v1gra',\n",
       " 'vagina',\n",
       " 'viagra',\n",
       " 'vulva',\n",
       " 'w00se',\n",
       " 'wang',\n",
       " 'wank',\n",
       " 'wanker',\n",
       " 'wanky',\n",
       " 'whoar',\n",
       " 'whore',\n",
       " 'willies',\n",
       " 'willy',\n",
       " 'xrated',\n",
       " 'xxx',\n",
       " '']"
      ]
     },
     "execution_count": 13,
     "metadata": {},
     "output_type": "execute_result"
    }
   ],
   "source": [
    "swear_words = open(\"list.txt\", \"r\")\n",
    "\n",
    "swear_list = swear_words.read().split('\\n')\n",
    "swear_list"
   ]
  },
  {
   "cell_type": "code",
   "execution_count": 14,
   "metadata": {},
   "outputs": [],
   "source": [
    "swear_para = ''' fuck you..!! The following fucking para will use adult ass and abusive words, not for kids. When we are pissed off, the first word comes to our mind is Fuck. \n",
    "             When we were fucked up really by an asshole we usually call them motherfucker. Being an Indian, eventhough we don't know the meaning of most words\n",
    "             we still use them bcoz we are bitches to follow the east. we even beat those bastards in watching xrated movies in all xxx websites.'''"
   ]
  },
  {
   "cell_type": "code",
   "execution_count": 15,
   "metadata": {
    "collapsed": true
   },
   "outputs": [
    {
     "data": {
      "text/plain": [
       "['fuck',\n",
       " 'you..',\n",
       " '!',\n",
       " '!',\n",
       " 'The',\n",
       " 'following',\n",
       " 'fucking',\n",
       " 'para',\n",
       " 'will',\n",
       " 'use',\n",
       " 'adult',\n",
       " 'ass',\n",
       " 'and',\n",
       " 'abusive',\n",
       " 'words',\n",
       " ',',\n",
       " 'not',\n",
       " 'for',\n",
       " 'kids',\n",
       " '.',\n",
       " 'When',\n",
       " 'we',\n",
       " 'are',\n",
       " 'pissed',\n",
       " 'off',\n",
       " ',',\n",
       " 'the',\n",
       " 'first',\n",
       " 'word',\n",
       " 'comes',\n",
       " 'to',\n",
       " 'our',\n",
       " 'mind',\n",
       " 'is',\n",
       " 'Fuck',\n",
       " '.',\n",
       " 'When',\n",
       " 'we',\n",
       " 'were',\n",
       " 'fucked',\n",
       " 'up',\n",
       " 'really',\n",
       " 'by',\n",
       " 'an',\n",
       " 'asshole',\n",
       " 'we',\n",
       " 'usually',\n",
       " 'call',\n",
       " 'them',\n",
       " 'motherfucker',\n",
       " '.',\n",
       " 'Being',\n",
       " 'an',\n",
       " 'Indian',\n",
       " ',',\n",
       " 'eventhough',\n",
       " 'we',\n",
       " 'do',\n",
       " \"n't\",\n",
       " 'know',\n",
       " 'the',\n",
       " 'meaning',\n",
       " 'of',\n",
       " 'most',\n",
       " 'words',\n",
       " 'we',\n",
       " 'still',\n",
       " 'use',\n",
       " 'them',\n",
       " 'bcoz',\n",
       " 'we',\n",
       " 'are',\n",
       " 'bitches',\n",
       " 'to',\n",
       " 'follow',\n",
       " 'the',\n",
       " 'east',\n",
       " '.',\n",
       " 'we',\n",
       " 'even',\n",
       " 'beat',\n",
       " 'those',\n",
       " 'bastards',\n",
       " 'in',\n",
       " 'watching',\n",
       " 'xrated',\n",
       " 'movies',\n",
       " 'in',\n",
       " 'all',\n",
       " 'xxx',\n",
       " 'websites',\n",
       " '.']"
      ]
     },
     "execution_count": 15,
     "metadata": {},
     "output_type": "execute_result"
    }
   ],
   "source": [
    "swear_token =  word_tokenize(swear_para)\n",
    "swear_token"
   ]
  },
  {
   "cell_type": "code",
   "execution_count": 16,
   "metadata": {
    "scrolled": true
   },
   "outputs": [
    {
     "data": {
      "text/plain": [
       "['#censored#',\n",
       " 'you..',\n",
       " '!',\n",
       " '!',\n",
       " 'The',\n",
       " 'following',\n",
       " '#censored#',\n",
       " 'para',\n",
       " 'will',\n",
       " 'use',\n",
       " 'adult',\n",
       " '#censored#',\n",
       " 'and',\n",
       " 'abusive',\n",
       " 'words',\n",
       " ',',\n",
       " 'not',\n",
       " 'for',\n",
       " 'kids',\n",
       " '.',\n",
       " 'When',\n",
       " 'we',\n",
       " 'are',\n",
       " '#censored#',\n",
       " 'off',\n",
       " ',',\n",
       " 'the',\n",
       " 'first',\n",
       " 'word',\n",
       " 'comes',\n",
       " 'to',\n",
       " 'our',\n",
       " 'mind',\n",
       " 'is',\n",
       " 'Fuck',\n",
       " '.',\n",
       " 'When',\n",
       " 'we',\n",
       " 'were',\n",
       " '#censored#',\n",
       " 'up',\n",
       " 'really',\n",
       " 'by',\n",
       " 'an',\n",
       " '#censored#',\n",
       " 'we',\n",
       " 'usually',\n",
       " 'call',\n",
       " 'them',\n",
       " '#censored#',\n",
       " '.',\n",
       " 'Being',\n",
       " 'an',\n",
       " 'Indian',\n",
       " ',',\n",
       " 'eventhough',\n",
       " 'we',\n",
       " 'do',\n",
       " \"n't\",\n",
       " 'know',\n",
       " 'the',\n",
       " 'meaning',\n",
       " 'of',\n",
       " 'most',\n",
       " 'words',\n",
       " 'we',\n",
       " 'still',\n",
       " 'use',\n",
       " 'them',\n",
       " 'bcoz',\n",
       " 'we',\n",
       " 'are',\n",
       " '#censored#',\n",
       " 'to',\n",
       " 'follow',\n",
       " 'the',\n",
       " 'east',\n",
       " '.',\n",
       " 'we',\n",
       " 'even',\n",
       " 'beat',\n",
       " 'those',\n",
       " 'bastards',\n",
       " 'in',\n",
       " 'watching',\n",
       " '#censored#',\n",
       " 'movies',\n",
       " 'in',\n",
       " 'all',\n",
       " '#censored#',\n",
       " 'websites',\n",
       " '.']"
      ]
     },
     "execution_count": 16,
     "metadata": {},
     "output_type": "execute_result"
    }
   ],
   "source": [
    "swear_fun = list(map(lambda x: \"#censored#\" if x in swear_list else x, swear_token))\n",
    "swear_fun"
   ]
  },
  {
   "cell_type": "markdown",
   "metadata": {},
   "source": [
    "### 4. Using reduce functions: \n",
    "* add only even numbers in a list\n",
    "* find the biggest character in a string (printable ascii characters)\n",
    "* adds every 3rd number in a list"
   ]
  },
  {
   "cell_type": "code",
   "execution_count": 17,
   "metadata": {},
   "outputs": [],
   "source": [
    "from functools import reduce"
   ]
  },
  {
   "cell_type": "code",
   "execution_count": 18,
   "metadata": {},
   "outputs": [
    {
     "data": {
      "text/plain": [
       "20"
      ]
     },
     "execution_count": 18,
     "metadata": {},
     "output_type": "execute_result"
    }
   ],
   "source": [
    "# add only even numbers in a list\n",
    "\n",
    "num_list = [1,2,3,4,5,6,7,8]\n",
    "\n",
    "add_even = reduce(lambda a, b: a + b, { x for x in num_list if (x%2 == 0)})\n",
    "\n",
    "add_even"
   ]
  },
  {
   "cell_type": "code",
   "execution_count": 19,
   "metadata": {},
   "outputs": [
    {
     "data": {
      "text/plain": [
       "'z'"
      ]
     },
     "execution_count": 19,
     "metadata": {},
     "output_type": "execute_result"
    }
   ],
   "source": [
    "# find the biggest character in a string (printable ascii characters)\n",
    "\n",
    "string = \"abcdxyz\"\n",
    "\n",
    "big_charac = reduce(lambda a, b: b if ord(b) > ord(a) else a, string)\n",
    "\n",
    "big_charac"
   ]
  },
  {
   "cell_type": "code",
   "execution_count": 20,
   "metadata": {},
   "outputs": [
    {
     "data": {
      "text/plain": [
       "22"
      ]
     },
     "execution_count": 20,
     "metadata": {},
     "output_type": "execute_result"
    }
   ],
   "source": [
    "# adds every 3rd number in a list\n",
    "\n",
    "num3_list = [1,2,3,4,5,6,7,8,9,10]\n",
    "\n",
    "add3num = reduce(lambda a,b : a + b, { x for index, x in enumerate(num3_list) if index % 3 == 0})\n",
    "add3num"
   ]
  },
  {
   "cell_type": "markdown",
   "metadata": {},
   "source": [
    "### 5. Using randint, random.choice and list comprehensions, write an expression that generates 15 random KADDAADDDD number plates, where KA is fixed, D stands for a digit, and A stands for Capital alphabets. 10<<DD<<99 & 1000<<DDDD<<9999 "
   ]
  },
  {
   "cell_type": "code",
   "execution_count": 21,
   "metadata": {},
   "outputs": [],
   "source": [
    "def num_plates():\n",
    "  \n",
    "  digit2 = random.randint(10, 99)\n",
    "  digit4 = random.randint(1000, 9999)\n",
    "\n",
    "  alpha1 = random.choice(string.ascii_uppercase)\n",
    "  alpha2 = random.choice(string.ascii_uppercase)\n",
    "\n",
    "  return f'KA{digit2}{alpha1}{alpha2}{digit4}'"
   ]
  },
  {
   "cell_type": "code",
   "execution_count": 24,
   "metadata": {},
   "outputs": [
    {
     "data": {
      "text/plain": [
       "['KA79YG7613',\n",
       " 'KA75NW6749',\n",
       " 'KA10PQ6310',\n",
       " 'KA57CL4336',\n",
       " 'KA87UM9144',\n",
       " 'KA44DF9917',\n",
       " 'KA63BG5056',\n",
       " 'KA14FG9905',\n",
       " 'KA87FZ1116',\n",
       " 'KA11UH5133',\n",
       " 'KA60LB9050',\n",
       " 'KA90YV9751',\n",
       " 'KA38EE4614',\n",
       " 'KA96FF9229',\n",
       " 'KA17FK8682']"
      ]
     },
     "execution_count": 24,
     "metadata": {},
     "output_type": "execute_result"
    }
   ],
   "source": [
    "number_plates = [num_plates() for x in range(15)]\n",
    "number_plates"
   ]
  },
  {
   "cell_type": "markdown",
   "metadata": {},
   "source": [
    "### 6. Write the above again from scratch where KA can be changed to DL, and 1000/9999 ranges can be provided."
   ]
  },
  {
   "cell_type": "code",
   "execution_count": 25,
   "metadata": {},
   "outputs": [],
   "source": [
    "def num_plates(state_key='KA', digit4_lower=1000, digit4_upper=9999):\n",
    "  \n",
    "  digit2 = random.randint(10, 99)\n",
    "  digit4 = random.randint(digit4_lower, digit4_upper)\n",
    "\n",
    "  alpha1 = random.choice(string.ascii_uppercase)\n",
    "  alpha2 = random.choice(string.ascii_uppercase)\n",
    "\n",
    "  return f'{state_key}{digit2}{alpha1}{alpha2}{digit4}'"
   ]
  },
  {
   "cell_type": "code",
   "execution_count": 26,
   "metadata": {},
   "outputs": [
    {
     "data": {
      "text/plain": [
       "['DL35MP4789',\n",
       " 'DL98EU4046',\n",
       " 'DL75MR4910',\n",
       " 'DL37RM4602',\n",
       " 'DL32XN4999',\n",
       " 'DL83XZ4235',\n",
       " 'DL25GJ4629',\n",
       " 'DL79HU4328',\n",
       " 'DL16QG4993',\n",
       " 'DL96XM4752',\n",
       " 'DL16HS4978',\n",
       " 'DL21HG4606',\n",
       " 'DL15WH4910',\n",
       " 'DL89SL4816',\n",
       " 'DL28IU4724']"
      ]
     },
     "execution_count": 26,
     "metadata": {},
     "output_type": "execute_result"
    }
   ],
   "source": [
    "number_plates = [num_plates(state_key='DL', digit4_lower=4000, digit4_upper=5000) for x in range(15)]\n",
    "number_plates"
   ]
  }
 ],
 "metadata": {
  "kernelspec": {
   "display_name": "Python 3",
   "language": "python",
   "name": "python3"
  },
  "language_info": {
   "codemirror_mode": {
    "name": "ipython",
    "version": 3
   },
   "file_extension": ".py",
   "mimetype": "text/x-python",
   "name": "python",
   "nbconvert_exporter": "python",
   "pygments_lexer": "ipython3",
   "version": "3.7.3"
  }
 },
 "nbformat": 4,
 "nbformat_minor": 2
}
